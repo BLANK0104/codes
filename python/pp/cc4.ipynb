{
 "cells": [
  {
   "attachments": {},
   "cell_type": "markdown",
   "metadata": {},
   "source": [
    "Code Chef 4"
   ]
  },
  {
   "cell_type": "code",
   "execution_count": 2,
   "metadata": {},
   "outputs": [
    {
     "ename": "OperationalError",
     "evalue": "table City already exists",
     "output_type": "error",
     "traceback": [
      "\u001b[1;31m---------------------------------------------------------------------------\u001b[0m",
      "\u001b[1;31mOperationalError\u001b[0m                          Traceback (most recent call last)",
      "\u001b[1;32m~\\AppData\\Local\\Temp\\ipykernel_21128\\2304670854.py\u001b[0m in \u001b[0;36m<module>\u001b[1;34m\u001b[0m\n\u001b[0;32m     54\u001b[0m \u001b[1;33m\u001b[0m\u001b[0m\n\u001b[0;32m     55\u001b[0m \u001b[1;32mif\u001b[0m \u001b[0m__name__\u001b[0m \u001b[1;33m==\u001b[0m \u001b[1;34m'__main__'\u001b[0m\u001b[1;33m:\u001b[0m\u001b[1;33m\u001b[0m\u001b[1;33m\u001b[0m\u001b[0m\n\u001b[1;32m---> 56\u001b[1;33m     \u001b[0mcreate_table\u001b[0m\u001b[1;33m(\u001b[0m\u001b[1;33m)\u001b[0m\u001b[1;33m\u001b[0m\u001b[1;33m\u001b[0m\u001b[0m\n\u001b[0m\u001b[0;32m     57\u001b[0m     \u001b[0minsert_values\u001b[0m\u001b[1;33m(\u001b[0m\u001b[1;33m)\u001b[0m\u001b[1;33m\u001b[0m\u001b[1;33m\u001b[0m\u001b[0m\n\u001b[0;32m     58\u001b[0m     \u001b[0mprint\u001b[0m\u001b[1;33m(\u001b[0m\u001b[1;34m\"\\nAll records in City table:\"\u001b[0m\u001b[1;33m)\u001b[0m\u001b[1;33m\u001b[0m\u001b[1;33m\u001b[0m\u001b[0m\n",
      "\u001b[1;32m~\\AppData\\Local\\Temp\\ipykernel_21128\\2304670854.py\u001b[0m in \u001b[0;36mcreate_table\u001b[1;34m()\u001b[0m\n\u001b[0;32m      5\u001b[0m     \u001b[0mconn\u001b[0m \u001b[1;33m=\u001b[0m \u001b[0msqlite3\u001b[0m\u001b[1;33m.\u001b[0m\u001b[0mconnect\u001b[0m\u001b[1;33m(\u001b[0m\u001b[1;34m'city.db'\u001b[0m\u001b[1;33m)\u001b[0m\u001b[1;33m\u001b[0m\u001b[1;33m\u001b[0m\u001b[0m\n\u001b[0;32m      6\u001b[0m     \u001b[0mc\u001b[0m \u001b[1;33m=\u001b[0m \u001b[0mconn\u001b[0m\u001b[1;33m.\u001b[0m\u001b[0mcursor\u001b[0m\u001b[1;33m(\u001b[0m\u001b[1;33m)\u001b[0m\u001b[1;33m\u001b[0m\u001b[1;33m\u001b[0m\u001b[0m\n\u001b[1;32m----> 7\u001b[1;33m     c.execute('''CREATE TABLE City\n\u001b[0m\u001b[0;32m      8\u001b[0m                  (ID INTEGER PRIMARY KEY,\n\u001b[0;32m      9\u001b[0m                   \u001b[0mName\u001b[0m \u001b[0mTEXT\u001b[0m\u001b[1;33m,\u001b[0m\u001b[1;33m\u001b[0m\u001b[1;33m\u001b[0m\u001b[0m\n",
      "\u001b[1;31mOperationalError\u001b[0m: table City already exists"
     ]
    }
   ],
   "source": [
    "import sqlite3\n",
    "\n",
    "# Create City Table\n",
    "def create_table():\n",
    "    conn = sqlite3.connect('city.db')\n",
    "    c = conn.cursor()\n",
    "    c.execute('''CREATE TABLE City\n",
    "                 (ID INTEGER PRIMARY KEY,\n",
    "                  Name TEXT,\n",
    "                  CountryCode TEXT,\n",
    "                  District TEXT,\n",
    "                  Population INTEGER)''')\n",
    "    conn.commit()\n",
    "    conn.close()\n",
    "    print(\"Table created successfully\")\n",
    "\n",
    "def insert_values():\n",
    "    conn = sqlite3.connect('city.db')\n",
    "    c = conn.cursor()\n",
    "    c.execute(\"INSERT INTO City (ID, Name, CountryCode, District, Population) VALUES (1, 'Nashik', 'IND', 'Nashik', 5000000)\")\n",
    "    c.execute(\"INSERT INTO City (ID, Name, CountryCode, District, Population) VALUES (2, 'Dhule', 'IND', 'Dhule', 800000)\")\n",
    "    c.execute(\"INSERT INTO City (ID, Name, CountryCode, District, Population) VALUES (3, 'Shirpur', 'IND', 'Dhule', 150000)\")\n",
    "    c.execute(\"INSERT INTO City (ID, Name, CountryCode, District, Population) VALUES (4, 'Bhusawal', 'IND', 'Jalgaon', 300000)\")\n",
    "    c.execute(\"INSERT INTO City (ID, Name, CountryCode, District, Population) VALUES (5, 'Pune', 'IND', 'Pune', 20000000)\")\n",
    "    conn.commit()\n",
    "    conn.close()\n",
    "    print(\"Values inserted successfully\")\n",
    "\n",
    "def select_all_records():\n",
    "    conn = sqlite3.connect('city.db')\n",
    "    c = conn.cursor()\n",
    "    c.execute(\"SELECT * FROM City\")\n",
    "    rows = c.fetchall()\n",
    "    for row in rows:\n",
    "        print(row)\n",
    "    conn.close()\n",
    "\n",
    "def delete_record():\n",
    "    conn = sqlite3.connect('city.db')\n",
    "    c = conn.cursor()\n",
    "    c.execute(\"DELETE FROM City WHERE Name='Pune'\")\n",
    "    conn.commit()\n",
    "    conn.close()\n",
    "    print(\"Record deleted successfully\")\n",
    "\n",
    "def query_records():\n",
    "    conn = sqlite3.connect('city.db')\n",
    "    c = conn.cursor()\n",
    "    c.execute(\"SELECT * FROM City WHERE CountryCode='IND' AND Population>200000\")\n",
    "    rows = c.fetchall()\n",
    "    for row in rows:\n",
    "        print(row)\n",
    "    conn.close()\n",
    "\n",
    "if __name__ == '__main__':\n",
    "    create_table()\n",
    "    insert_values()\n",
    "    print(\"\\nAll records in City table:\")\n",
    "    select_all_records()\n",
    "    delete_record()\n",
    "    print(\"\\nAll Indian cities in City table with population larger than 200000:\")\n",
    "    query_records()"
   ]
  },
  {
   "cell_type": "code",
   "execution_count": 7,
   "metadata": {},
   "outputs": [
    {
     "name": "stdout",
     "output_type": "stream",
     "text": [
      "(1, 'NASHIK', 'IND', 'NASHIK', 50000000)\n",
      "(2, 'DHULE', 'IND', 'DHULE', 8000000)\n",
      "(3, 'SHIRPUR', 'IND', 'DHULE', 1500000)\n",
      "(4, 'BHUSAWAL', 'IND', 'JALGAON', 3000000)\n",
      "(5, 'PUNE', 'IND', 'PUNE', 200000000)\n",
      "(1, 'NASHIK', 'IND', 'NASHIK', 50000000)\n",
      "(2, 'DHULE', 'IND', 'DHULE', 8000000)\n",
      "(3, 'SHIRPUR', 'IND', 'DHULE', 1500000)\n",
      "(4, 'BHUSAWAL', 'IND', 'JALGAON', 3000000)\n",
      "(5, 'PUNE', 'IND', 'PUNE', 200000000)\n"
     ]
    },
    {
     "data": {
      "text/plain": [
       "<sqlite3.Cursor at 0x260e0bb2ea0>"
      ]
     },
     "execution_count": 7,
     "metadata": {},
     "output_type": "execute_result"
    }
   ],
   "source": [
    "import sqlite3 as sql\n",
    "conn=sql.connect(\"city2.db\")\n",
    "#conn.execute(\"CREATE TABLE CITY( ID INT, NAME TEXT, COUNTRYCODE TEXT, DISTRICT TEXT, POPULATION INT);\")\n",
    "conn.commit()\n",
    "conn.execute(\"INSERT INTO CITY (ID,NAME,COUNTRYCODE,DISTRICT,POPULATION) VALUES (1,'NASHIK','IND','NASHIK',50000000);\")\n",
    "conn.execute(\"INSERT INTO CITY (ID,NAME,COUNTRYCODE,DISTRICT,POPULATION) VALUES (2,'DHULE','IND','DHULE',8000000);\")\n",
    "conn.execute(\"INSERT INTO CITY (ID,NAME,COUNTRYCODE,DISTRICT,POPULATION) VALUES (3,'SHIRPUR','IND','DHULE',1500000);\")\n",
    "conn.execute(\"INSERT INTO CITY (ID,NAME,COUNTRYCODE,DISTRICT,POPULATION) VALUES (4,'BHUSAWAL','IND','JALGAON',3000000);\")\n",
    "conn.execute(\"INSERT INTO CITY (ID,NAME,COUNTRYCODE,DISTRICT,POPULATION) VALUES (5,'PUNE','IND','PUNE',200000000);\")\n",
    "conn.commit()\n",
    "cursor=conn.execute(\"SELECT * FROM CITY\")\n",
    "rows=cursor.fetchall()\n",
    "for row in rows:\n",
    "    print (row)\n",
    "conn.execute(\"DELETE FROM CITY WHERE NAME='PUNE'\")\n",
    "conn.execute(\"SELECT * FROM CITY WHERE POPULATION>20000000\")"
   ]
  }
 ],
 "metadata": {
  "kernelspec": {
   "display_name": "base",
   "language": "python",
   "name": "python3"
  },
  "language_info": {
   "codemirror_mode": {
    "name": "ipython",
    "version": 3
   },
   "file_extension": ".py",
   "mimetype": "text/x-python",
   "name": "python",
   "nbconvert_exporter": "python",
   "pygments_lexer": "ipython3",
   "version": "3.9.13"
  },
  "orig_nbformat": 4
 },
 "nbformat": 4,
 "nbformat_minor": 2
}
