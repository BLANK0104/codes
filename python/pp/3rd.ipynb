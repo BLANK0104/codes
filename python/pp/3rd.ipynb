{
 "cells": [
  {
   "attachments": {},
   "cell_type": "markdown",
   "metadata": {},
   "source": [
    "3rd"
   ]
  },
  {
   "cell_type": "code",
   "execution_count": 1,
   "metadata": {},
   "outputs": [
    {
     "name": "stdout",
     "output_type": "stream",
     "text": [
      "Number of vowels in the string is: 3\n"
     ]
    }
   ],
   "source": [
    "#1.\tWrite a program to count the number of each vowel in a string\n",
    "a=input(\"Enter a string:\")\n",
    "vowels=['a','e','i','o','u']\n",
    "count=0\n",
    "for i in a:\n",
    "    if i in vowels:\n",
    "        count+=1\n",
    "print(\"Number of vowels in the string is:\",count)"
   ]
  },
  {
   "cell_type": "code",
   "execution_count": 4,
   "metadata": {},
   "outputs": [
    {
     "name": "stdout",
     "output_type": "stream",
     "text": [
      "String after removing punctuations is: uioupougkmofm\n"
     ]
    }
   ],
   "source": [
    "#2.\tWrite a program to remove all punctuation from the string provided by the user punctuations = '''!()-[]{};:'\"\\,<>./?@#$%^&*_~''‘\n",
    "a=input(\"Enter a string:\")\n",
    "punctuations = '''!()-[]{};:'\"\\,<>./?@#$%^&*_~'''\n",
    "for i in a:\n",
    "    if i in punctuations:\n",
    "        a=a.replace(i,\"\")\n",
    "print(\"String after removing punctuations is:\",a)\n"
   ]
  },
  {
   "cell_type": "code",
   "execution_count": 4,
   "metadata": {},
   "outputs": [
    {
     "name": "stdout",
     "output_type": "stream",
     "text": [
      "String is palindrome\n"
     ]
    }
   ],
   "source": [
    "#3.\tWrite a program to check if the given string is Palindrome or not?\n",
    "a=input(\"Enter a string:\")\n",
    "b=a[::-1]\n",
    "if a==b:\n",
    "    print(\"String is palindrome\")\n",
    "else:\n",
    "    print(\"String is not palindrome\")\n"
   ]
  },
  {
   "cell_type": "code",
   "execution_count": 6,
   "metadata": {},
   "outputs": [
    {
     "name": "stdout",
     "output_type": "stream",
     "text": [
      "Sum of all items in the list is: 30\n"
     ]
    }
   ],
   "source": [
    "#4.\tSum all the items in a list.\n",
    "b=int(input(\"Enter the number of items in the list:\"))\n",
    "a=[]\n",
    "for i in range(b):\n",
    "    c=int(input(\"Enter the item:\"))\n",
    "    a.append(c)\n",
    "sum=0\n",
    "for i in a:\n",
    "    sum+=i\n",
    "print(\"Sum of all items in the list is:\",sum)"
   ]
  },
  {
   "cell_type": "code",
   "execution_count": 8,
   "metadata": {},
   "outputs": [
    {
     "name": "stdout",
     "output_type": "stream",
     "text": [
      "Item found at index 1\n"
     ]
    }
   ],
   "source": [
    "#5.\tImplement Linear Search using List.\n",
    "a=[]\n",
    "b=int(input(\"Enter the number of items in the list:\"))\n",
    "for i in range(b):\n",
    "    c=int(input(\"Enter the item:\"))\n",
    "    a.append(c)\n",
    "d=int(input(\"Enter the item to be searched:\"))\n",
    "for i in range(len(a)):\n",
    "    if a[i]==d:\n",
    "        print(\"Item found at index\",i)\n",
    "        break\n",
    "else:\n",
    "    print(\"Item not found\")"
   ]
  },
  {
   "cell_type": "code",
   "execution_count": 9,
   "metadata": {},
   "outputs": [
    {
     "name": "stdout",
     "output_type": "stream",
     "text": [
      "List is: [1, 2, 3, 4, 5]\n",
      "List after appending 10 is: [1, 2, 3, 4, 5, 10]\n",
      "List after inserting 20 at index 2 is: [1, 2, 20, 3, 4, 5, 10]\n",
      "List after removing 20 is: [1, 2, 3, 4, 5, 10]\n",
      "List after popping last element is: [1, 2, 3, 4, 5]\n",
      "List after sorting is: [1, 2, 3, 4, 5]\n",
      "List after reversing is: [5, 4, 3, 2, 1]\n",
      "List after clearing is: []\n"
     ]
    }
   ],
   "source": [
    "#6.\tDemonstrate list operations.\n",
    "a=[]\n",
    "b=int(input(\"Enter the number of items in the list:\"))\n",
    "for i in range(b):\n",
    "    c=int(input(\"Enter the item:\"))\n",
    "    a.append(c)\n",
    "print(\"List is:\",a)\n",
    "a.append(10)\n",
    "print(\"List after appending 10 is:\",a)\n",
    "a.insert(2,20)\n",
    "print(\"List after inserting 20 at index 2 is:\",a)\n",
    "a.remove(20)\n",
    "print(\"List after removing 20 is:\",a)\n",
    "a.pop()\n",
    "print(\"List after popping last element is:\",a)\n",
    "a.sort()\n",
    "print(\"List after sorting is:\",a)\n",
    "a.reverse()\n",
    "print(\"List after reversing is:\",a)\n",
    "a.clear()\n",
    "print(\"List after clearing is:\",a)\n"
   ]
  }
 ],
 "metadata": {
  "kernelspec": {
   "display_name": "base",
   "language": "python",
   "name": "python3"
  },
  "language_info": {
   "codemirror_mode": {
    "name": "ipython",
    "version": 3
   },
   "file_extension": ".py",
   "mimetype": "text/x-python",
   "name": "python",
   "nbconvert_exporter": "python",
   "pygments_lexer": "ipython3",
   "version": "3.9.13"
  },
  "orig_nbformat": 4,
  "vscode": {
   "interpreter": {
    "hash": "75c920805eb27b536b95949d6c48f2c0b8a1e6b412abab14202a5223224705b7"
   }
  }
 },
 "nbformat": 4,
 "nbformat_minor": 2
}
