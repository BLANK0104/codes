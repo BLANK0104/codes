{
 "cells": [
  {
   "attachments": {},
   "cell_type": "markdown",
   "metadata": {},
   "source": [
    "8th"
   ]
  },
  {
   "cell_type": "code",
   "execution_count": 1,
   "metadata": {},
   "outputs": [
    {
     "name": "stdout",
     "output_type": "stream",
     "text": [
      "Rollno: 1\n",
      "Name: A\n",
      "Marks: [10, 20, 30, 40, 50]\n",
      "Percentage: 30.0\n"
     ]
    }
   ],
   "source": [
    "#1)\tCreate Student class with details like rollno, name, marks for 5 subjects each out of 100.  Create parameterized constructor and define function to calculate percentage and display student details (rollno, name, marks and percentage).\n",
    "\n",
    "class Student:\n",
    "    def __init__(self,rollno,name,marks):\n",
    "        self.rollno=rollno\n",
    "        self.name=name\n",
    "        self.marks=marks\n",
    "    def percentage(self):\n",
    "        return sum(self.marks)/len(self.marks)\n",
    "    def display(self):\n",
    "        print(\"Rollno:\",self.rollno)\n",
    "        print(\"Name:\",self.name)\n",
    "        print(\"Marks:\",self.marks)\n",
    "        print(\"Percentage:\",self.percentage())\n",
    "s=Student(1,\"A\", [10,20,30,40,50])\n",
    "s.display()\n"
   ]
  },
  {
   "cell_type": "code",
   "execution_count": 3,
   "metadata": {},
   "outputs": [
    {
     "name": "stdout",
     "output_type": "stream",
     "text": [
      "Number: 1\n",
      "Balance: 1000\n",
      "Name: A\n",
      "Address: B\n",
      "DOB: C\n",
      "Number: 1\n",
      "Balance: 1100\n",
      "Name: A\n",
      "Address: B\n",
      "DOB: C\n",
      "Number: 1\n",
      "Balance: 1000\n",
      "Name: A\n",
      "Address: B\n",
      "DOB: C\n"
     ]
    }
   ],
   "source": [
    "#2)\tCreate Account class for a bank with variables number and balance. Create constructor and two user defined function deposit and withdraw with appropriate arguments. Create class customer inherited from Account and with variables name, address, dob.  Define constructor.   Display details of customer along with balance amount after deposit and withdraw operation.\n",
    "\n",
    "class Account:\n",
    "    def __init__(self,number,balance):\n",
    "        self.number=number\n",
    "        self.balance=balance\n",
    "    def deposit(self,amount):\n",
    "        self.balance+=amount\n",
    "    def withdraw(self,amount):\n",
    "        self.balance-=amount\n",
    "class Customer(Account):\n",
    "    def __init__(self,number,balance,name,address,dob):\n",
    "        super().__init__(number,balance)\n",
    "        self.name=name\n",
    "        self.address=address\n",
    "        self.dob=dob\n",
    "    def display(self):\n",
    "        print(\"Number:\",self.number)\n",
    "        print(\"Balance:\",self.balance)\n",
    "        print(\"Name:\",self.name)\n",
    "        print(\"Address:\",self.address)\n",
    "        print(\"DOB:\",self.dob)\n",
    "c=Customer(1,1000,\"A\",\"B\",\"C\")\n",
    "c.display()\n",
    "c.deposit(100)\n",
    "c.display()\n",
    "c.withdraw(100)\n",
    "c.display()\n"
   ]
  },
  {
   "cell_type": "code",
   "execution_count": 4,
   "metadata": {},
   "outputs": [
    {
     "name": "stdout",
     "output_type": "stream",
     "text": [
      "[1, 1, 4, 9, 25, 64, 169, 441, 1156, 3025]\n"
     ]
    }
   ],
   "source": [
    "#3)\tWrite map function to return a list of numbers which are square of first 10 Fibonacci numbers. \n",
    "\n",
    "def fib(n):\n",
    "    if n==1 or n==2:\n",
    "        return 1\n",
    "    return fib(n-1)+fib(n-2)\n",
    "def square(n):\n",
    "    return n*n\n",
    "l=list(map(square, map(fib, range(1,11))))\n",
    "print(l)\n"
   ]
  },
  {
   "cell_type": "code",
   "execution_count": 5,
   "metadata": {},
   "outputs": [
    {
     "name": "stdout",
     "output_type": "stream",
     "text": [
      "36\n",
      "200\n"
     ]
    }
   ],
   "source": [
    "#4)\tWrite a lambda function for adding26 to its argument, also create a lambda function that multiplies argument x with argument y and print the result.\n",
    "\n",
    "l1=lambda x:x+26\n",
    "l2=lambda x,y:x*y\n",
    "print(l1(10))\n",
    "print(l2(10,20))\n"
   ]
  },
  {
   "cell_type": "code",
   "execution_count": 6,
   "metadata": {},
   "outputs": [
    {
     "name": "stdout",
     "output_type": "stream",
     "text": [
      "[{'username': 'arush', 'tweets': []}, {'username': 'sam', 'tweets': []}]\n",
      "['ARUSH', 'SAM']\n",
      "[]\n"
     ]
    }
   ],
   "source": [
    "#A twitter database is given in which we have username and tweets.\n",
    "#users = [ {\"username\": 'seema', \"tweets\": [\"i love chocolate\", \"i am a student\"]},\n",
    "#{\"username\": 'arush', \"tweets\": []},{\"username\": 'kumal', \"tweets\": [\"India\", \"Python\"]},{\"username\": 'sam', \"tweets\": []},{\"username\": 'lokesh', \"tweets\": [\"i am good\"]},]\n",
    "\n",
    "#1)\tFind all users who are not having any tweets.\n",
    "\n",
    "users = [ {\"username\": 'seema', \"tweets\": [\"i love chocolate\", \"i am a student\"]},\n",
    "{\"username\": 'arush', \"tweets\": []},{\"username\": 'kumal', \"tweets\": [\"India\", \"Python\"]},{\"username\": 'sam', \"tweets\": []},{\"username\": 'lokesh', \"tweets\": [\"i am good\"]},]\n",
    "l=list(filter(lambda x: len(x[\"tweets\"])==0, users))\n",
    "print(l)\n",
    "\n",
    "\n",
    "#2)\tFilter inactive users with just username in uppercase.\n",
    "\n",
    "l=list(map(lambda x: x[\"username\"].upper(), filter(lambda x: len(x[\"tweets\"])==0, users)))\n",
    "print(l)\n",
    "\n",
    "#Return a new list with the string “your name is” + name,but only if length of name is bigger than 4 using map , filter and Lambda\n",
    "\n",
    "l=list(map(lambda x: \"your name is \"+x, filter(lambda x: len(x)>4, [\"A\",\"B\",\"C\",\"D\"])))\n",
    "print(l)"
   ]
  }
 ],
 "metadata": {
  "kernelspec": {
   "display_name": "base",
   "language": "python",
   "name": "python3"
  },
  "language_info": {
   "codemirror_mode": {
    "name": "ipython",
    "version": 3
   },
   "file_extension": ".py",
   "mimetype": "text/x-python",
   "name": "python",
   "nbconvert_exporter": "python",
   "pygments_lexer": "ipython3",
   "version": "3.9.13"
  },
  "orig_nbformat": 4
 },
 "nbformat": 4,
 "nbformat_minor": 2
}
