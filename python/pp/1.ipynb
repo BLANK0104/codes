{
 "cells": [
  {
   "attachments": {},
   "cell_type": "markdown",
   "metadata": {},
   "source": [
    "!ST"
   ]
  },
  {
   "cell_type": "code",
   "execution_count": 1,
   "metadata": {},
   "outputs": [
    {
     "name": "stdout",
     "output_type": "stream",
     "text": [
      "Before swapping a =  10  b =  20\n",
      "After swapping a =  20  b =  10\n",
      "Before swapping a =  10  b =  20\n",
      "After swapping a =  20  b =  10\n",
      "Before swapping a =  10  b =  20\n",
      "30 20\n",
      "30 10\n",
      "After swapping a =  20  b =  10\n"
     ]
    }
   ],
   "source": [
    "#1.\tSwap two variables.\n",
    "\n",
    "#1.\tUsing temp variable\n",
    "a = 10\n",
    "b = 20\n",
    "print(\"Before swapping a = \",a,\" b = \",b)\n",
    "temp = a\n",
    "a = b\n",
    "b = temp\n",
    "print(\"After swapping a = \",a,\" b = \",b)\n",
    "\n",
    "#2.\tUsing comma operator\n",
    "a = 10\n",
    "b = 20\n",
    "print(\"Before swapping a = \",a,\" b = \",b)\n",
    "a,b = b,a\n",
    "print(\"After swapping a = \",a,\" b = \",b)\n",
    "\n",
    "#3.\tUsing bitwise XOR operator\n",
    "a = 10\n",
    "b = 20\n",
    "print(\"Before swapping a = \",a,\" b = \",b)\n",
    "a = a ^ b\n",
    "print(a,b)\n",
    "b = a ^ b\n",
    "print(a,b)\n",
    "a = a ^ b\n",
    "print(\"After swapping a = \",a,\" b = \",b)\n"
   ]
  },
  {
   "cell_type": "code",
   "execution_count": 2,
   "metadata": {},
   "outputs": [
    {
     "name": "stdout",
     "output_type": "stream",
     "text": [
      "Area of circle is  78.5\n",
      "Area of square is  25\n",
      "Area of rectangle is  50\n",
      "Area of triangle is  25.0\n",
      "Area of sphere is  314.0\n"
     ]
    }
   ],
   "source": [
    "#2.\tCompute areas of the following (Find the equation and implement in python\n",
    "\n",
    "#\ta.\tCircle\n",
    "r = 5\n",
    "area = 3.14 * r * r\n",
    "print(\"Area of circle is \",area)\n",
    "\n",
    "#\tb.\tSquare\n",
    "s = 5\n",
    "area = s * s\n",
    "print(\"Area of square is \",area)\n",
    "\n",
    "#\tc.\tRectangle\n",
    "l = 5\n",
    "b = 10\n",
    "area = l * b\n",
    "print(\"Area of rectangle is \",area)\n",
    "\n",
    "#\td.\tTriangle\n",
    "b = 5\n",
    "h = 10\n",
    "area = 0.5 * b * h\n",
    "print(\"Area of triangle is \",area)\n",
    "\n",
    "#   c. sphere\n",
    "r = 5\n",
    "area = 4 * 3.14 * r * r\n",
    "print(\"Area of sphere is \",area)\n"
   ]
  },
  {
   "cell_type": "code",
   "execution_count": 3,
   "metadata": {},
   "outputs": [
    {
     "name": "stdout",
     "output_type": "stream",
     "text": [
      "Roots are real and distinct\n",
      "x1 =  -2.0  x2 =  -3.0\n"
     ]
    }
   ],
   "source": [
    "#2.\tSolve quadratic equation\n",
    "import math\n",
    "a = 1\n",
    "b = 5\n",
    "c = 6\n",
    "d = b * b - 4 * a * c\n",
    "if d > 0:\n",
    "    x1 = (-b + math.sqrt(d)) / (2 * a)\n",
    "    x2 = (-b - math.sqrt(d)) / (2 * a)\n",
    "    print(\"Roots are real and distinct\")\n",
    "    print(\"x1 = \",x1,\" x2 = \",x2)\n",
    "elif d == 0:\n",
    "    x = -b / (2 * a)\n",
    "    print(\"Roots are real and equal\")\n",
    "    print(\"x1 = x2 = \",x)\n",
    "else:\n",
    "    print(\"Roots are imaginary\")\n"
   ]
  },
  {
   "cell_type": "code",
   "execution_count": 4,
   "metadata": {},
   "outputs": [
    {
     "name": "stdout",
     "output_type": "stream",
     "text": [
      "Temperature in Fahrenheit is  98.6\n"
     ]
    }
   ],
   "source": [
    "#3.\tConvert Celsius to Fahrenheit\n",
    "c = 37\n",
    "f = (c * 9 / 5) + 32\n",
    "print(\"Temperature in Fahrenheit is \",f)"
   ]
  },
  {
   "cell_type": "code",
   "execution_count": 5,
   "metadata": {},
   "outputs": [
    {
     "name": "stdout",
     "output_type": "stream",
     "text": [
      "Random number between 0 and 1 is  0.09228559538613257\n",
      "Random number between 10 and 20 is  20\n",
      "Random number between 10 and 20 is  10\n"
     ]
    }
   ],
   "source": [
    "#4.\tGenerate a Random Number using random(), randint(), sample()[import random]\n",
    "import random\n",
    "print(\"Random number between 0 and 1 is \",random.random())\n",
    "print(\"Random number between 10 and 20 is \",random.randint(10,20))\n",
    "print(\"Random number between 10 and 20 is \",random.randrange(10,20))"
   ]
  }
 ],
 "metadata": {
  "kernelspec": {
   "display_name": "base",
   "language": "python",
   "name": "python3"
  },
  "language_info": {
   "codemirror_mode": {
    "name": "ipython",
    "version": 3
   },
   "file_extension": ".py",
   "mimetype": "text/x-python",
   "name": "python",
   "nbconvert_exporter": "python",
   "pygments_lexer": "ipython3",
   "version": "3.9.13"
  },
  "orig_nbformat": 4,
  "vscode": {
   "interpreter": {
    "hash": "75c920805eb27b536b95949d6c48f2c0b8a1e6b412abab14202a5223224705b7"
   }
  }
 },
 "nbformat": 4,
 "nbformat_minor": 2
}
