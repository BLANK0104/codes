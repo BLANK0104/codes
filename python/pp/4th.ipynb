{
 "cells": [
  {
   "attachments": {},
   "cell_type": "markdown",
   "metadata": {},
   "source": [
    "4TH"
   ]
  },
  {
   "cell_type": "code",
   "execution_count": 1,
   "metadata": {},
   "outputs": [
    {
     "name": "stdout",
     "output_type": "stream",
     "text": [
      "Minimum number from tuple is:  1\n",
      "Maximum number from tuple is:  10\n"
     ]
    }
   ],
   "source": [
    "#1.\tCreate a tuple, and find the minimum and maximum number from it. \n",
    "tup = (1,2,3,4,5,6,7,8,9,10)\n",
    "print(\"Minimum number from tuple is: \", min(tup))\n",
    "print(\"Maximum number from tuple is: \", max(tup))"
   ]
  },
  {
   "cell_type": "code",
   "execution_count": 1,
   "metadata": {},
   "outputs": [
    {
     "name": "stdout",
     "output_type": "stream",
     "text": [
      "1 2 3 4 5 1 2 3 4 5 "
     ]
    }
   ],
   "source": [
    "#2.\tFind the repeated items of a tuple.\n",
    "tup = (1,2,3,4,5,6,7,8,9,10,1,2,3,4,5)\n",
    "for i in tup:\n",
    "    if tup.count(i) > 1:\n",
    "        print(i, end=\" \")"
   ]
  },
  {
   "cell_type": "code",
   "execution_count": 7,
   "metadata": {},
   "outputs": [
    {
     "name": "stdout",
     "output_type": "stream",
     "text": [
      "Invalid number\n"
     ]
    }
   ],
   "source": [
    "#3.\tPrint the number in words\n",
    "num = int(input(\"Enter a number: \"))\n",
    "if num == 1:\n",
    "    print(\"One\")\n",
    "elif num == 2:\n",
    "    print(\"Two\")\n",
    "elif num == 3:\n",
    "    print(\"Three\")\n",
    "elif num == 4:\n",
    "    print(\"Four\")\n",
    "elif num == 5:\n",
    "    print(\"Five\")\n",
    "elif num == 6:\n",
    "    print(\"Six\")\n",
    "elif num == 7:\n",
    "    print(\"Seven\")\n",
    "elif num == 8:\n",
    "    print(\"Eight\")\n",
    "elif num == 9:\n",
    "    print(\"Nine\")\n",
    "elif num == 10:\n",
    "    print(\"Ten\")\n",
    "else:\n",
    "    print(\"Invalid number\")"
   ]
  },
  {
   "cell_type": "code",
   "execution_count": 4,
   "metadata": {},
   "outputs": [
    {
     "name": "stdout",
     "output_type": "stream",
     "text": [
      "Intersection of sets:  set()\n",
      "Union of sets:  {1, 2, 3, 4, 5, 6, 7, 8, 9, 10, 11, 12, 13, 14, 15, 16, 17, 18, 19, 20}\n",
      "Set difference:  {1, 2, 3, 4, 5, 6, 7, 8, 9, 10}\n",
      "Symmetric difference:  {1, 2, 3, 4, 5, 6, 7, 8, 9, 10, 11, 12, 13, 14, 15, 16, 17, 18, 19, 20}\n",
      "Clear a set:  set()\n"
     ]
    }
   ],
   "source": [
    "#4.\tcreate a set, add member(s) in a set and perform following operations: intersection of sets, union of sets, set difference, symmetric difference, clear a set. \n",
    "set1 = {1,2,3,4,5,6,7,8,9,10}\n",
    "set2 = {11,12,13,14,15,16,17,18,19,20}\n",
    "print(\"Intersection of sets: \", set1.intersection(set2))\n",
    "print(\"Union of sets: \", set1.union(set2))\n",
    "print(\"Set difference: \", set1.difference(set2))\n",
    "print(\"Symmetric difference: \", set1.symmetric_difference(set2))\n",
    "set1.clear()\n",
    "print(\"Clear a set: \", set1)"
   ]
  },
  {
   "cell_type": "code",
   "execution_count": 5,
   "metadata": {},
   "outputs": [
    {
     "name": "stdout",
     "output_type": "stream",
     "text": [
      "Length of set:  10\n",
      "Maximum value in a set:  10\n",
      "Minimum value in a set:  1\n"
     ]
    }
   ],
   "source": [
    "#5.\tFind length, maximum and the minimum value in a set. \n",
    "set1 = {1,2,3,4,5,6,7,8,9,10}\n",
    "print(\"Length of set: \", len(set1))\n",
    "print(\"Maximum value in a set: \", max(set1))\n",
    "print(\"Minimum value in a set: \", min(set1))"
   ]
  },
  {
   "cell_type": "code",
   "execution_count": 6,
   "metadata": {},
   "outputs": [
    {
     "name": "stdout",
     "output_type": "stream",
     "text": [
      "Number of vowels in a given string:  2\n"
     ]
    }
   ],
   "source": [
    "#6.\tApplyset function to find the count of number of vowels in a given string.\n",
    "string = \"Hello World\"\n",
    "vowels = set(\"aeiou\")\n",
    "s = set({})\n",
    "for char in string:\n",
    "    if char in vowels:\n",
    "        s.add(char)\n",
    "print(\"Number of vowels in a given string: \", len(s))"
   ]
  }
 ],
 "metadata": {
  "kernelspec": {
   "display_name": "base",
   "language": "python",
   "name": "python3"
  },
  "language_info": {
   "codemirror_mode": {
    "name": "ipython",
    "version": 3
   },
   "file_extension": ".py",
   "mimetype": "text/x-python",
   "name": "python",
   "nbconvert_exporter": "python",
   "pygments_lexer": "ipython3",
   "version": "3.9.13"
  },
  "orig_nbformat": 4,
  "vscode": {
   "interpreter": {
    "hash": "75c920805eb27b536b95949d6c48f2c0b8a1e6b412abab14202a5223224705b7"
   }
  }
 },
 "nbformat": 4,
 "nbformat_minor": 2
}
