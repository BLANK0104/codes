{
 "cells": [
  {
   "attachments": {},
   "cell_type": "markdown",
   "metadata": {},
   "source": [
    "Code Chef 3"
   ]
  },
  {
   "cell_type": "code",
   "execution_count": 2,
   "metadata": {},
   "outputs": [
    {
     "name": "stdout",
     "output_type": "stream",
     "text": [
      "Enter scores for Kristen:\n",
      "Enter scores for Alex:\n",
      "Alex has scored higher\n"
     ]
    }
   ],
   "source": [
    "class Student:\n",
    "    def __init__(self):\n",
    "        self.scores = []\n",
    "\n",
    "    def input(self):\n",
    "        self.scores = list(map(int, input().split()))\n",
    "\n",
    "    def score(self):\n",
    "        return sum(self.scores)\n",
    "\n",
    "Kristen = Student()\n",
    "Alex = Student()\n",
    "\n",
    "print(\"Enter scores for Kristen:\")\n",
    "Kristen.input()\n",
    "\n",
    "print(\"Enter scores for Alex:\")\n",
    "Alex.input()\n",
    "\n",
    "kristen_total_score = Kristen.score()\n",
    "alex_total_score = Alex.score()\n",
    "\n",
    "if kristen_total_score > alex_total_score:\n",
    "    print(\"Kristen has scored higher\")\n",
    "elif kristen_total_score < alex_total_score:\n",
    "    print(\"Alex has scored higher\")\n",
    "else:\n",
    "    print(\"Kristen and Alex have scored the same\")\n"
   ]
  }
 ],
 "metadata": {
  "kernelspec": {
   "display_name": "base",
   "language": "python",
   "name": "python3"
  },
  "language_info": {
   "codemirror_mode": {
    "name": "ipython",
    "version": 3
   },
   "file_extension": ".py",
   "mimetype": "text/x-python",
   "name": "python",
   "nbconvert_exporter": "python",
   "pygments_lexer": "ipython3",
   "version": "3.9.13"
  },
  "orig_nbformat": 4
 },
 "nbformat": 4,
 "nbformat_minor": 2
}
