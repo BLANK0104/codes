{
 "cells": [
  {
   "attachments": {},
   "cell_type": "markdown",
   "metadata": {},
   "source": [
    "CODE CHEF 2"
   ]
  },
  {
   "cell_type": "code",
   "execution_count": 1,
   "metadata": {},
   "outputs": [
    {
     "name": "stdout",
     "output_type": "stream",
     "text": [
      "Number of words in the file:  104\n"
     ]
    }
   ],
   "source": [
    "file_name = input(\"Enter file name: \")\n",
    "\n",
    "try:\n",
    "    with open(file_name, 'r') as file:\n",
    "        content = file.read()\n",
    "        word_count = len(content.split())\n",
    "        print(\"Number of words in the file: \", word_count)\n",
    "except FileNotFoundError:\n",
    "    print(\"File not found.\")"
   ]
  },
  {
   "cell_type": "code",
   "execution_count": 4,
   "metadata": {},
   "outputs": [
    {
     "name": "stdout",
     "output_type": "stream",
     "text": [
      "File contents copied successfully!\n"
     ]
    }
   ],
   "source": [
    "# ask user for source and destination file names\n",
    "sfile = input(\"Enter source file name: \")\n",
    "dfile = input(\"Enter destination file name: \")\n",
    "\n",
    "try:\n",
    "    with open(sfile, 'r') as source:\n",
    "        content = source.read()\n",
    "        with open(dfile, 'w') as destination:\n",
    "            destination.write(content)\n",
    "            print(\"File contents copied successfully!\")\n",
    "except FileNotFoundError:\n",
    "    print(\"File not found.\")\n"
   ]
  }
 ],
 "metadata": {
  "kernelspec": {
   "display_name": "base",
   "language": "python",
   "name": "python3"
  },
  "language_info": {
   "codemirror_mode": {
    "name": "ipython",
    "version": 3
   },
   "file_extension": ".py",
   "mimetype": "text/x-python",
   "name": "python",
   "nbconvert_exporter": "python",
   "pygments_lexer": "ipython3",
   "version": "3.9.13"
  },
  "orig_nbformat": 4
 },
 "nbformat": 4,
 "nbformat_minor": 2
}
