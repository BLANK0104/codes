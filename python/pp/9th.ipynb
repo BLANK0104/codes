{
 "cells": [
  {
   "attachments": {},
   "cell_type": "markdown",
   "metadata": {},
   "source": [
    "9th"
   ]
  },
  {
   "cell_type": "code",
   "execution_count": 1,
   "metadata": {},
   "outputs": [
    {
     "name": "stdout",
     "output_type": "stream",
     "text": [
      "hiiii\n",
      "\n",
      "Utsav\n",
      "\n",
      "Chandra\n",
      "\n",
      "Here\n",
      "\n"
     ]
    }
   ],
   "source": [
    "#1.\tWrite a list of lines into a file using writelines() and then to print non-empty lines of the file one at a time.\n",
    "\n",
    "f=open(\"file.txt\",\"w\")\n",
    "f.writelines([\"hiiii\\n\",\"Utsav\\n\",\"Chandra\\n\",\"Here\\n\"])\n",
    "f.close()\n",
    "f=open(\"file.txt\",\"r\")\n",
    "for line in f:\n",
    "    if line!=\"\\n\":\n",
    "        print(line)\n",
    "f.close()\n",
    "\n"
   ]
  },
  {
   "cell_type": "code",
   "execution_count": 2,
   "metadata": {},
   "outputs": [
    {
     "name": "stdout",
     "output_type": "stream",
     "text": [
      "Number of words ending with e:  1\n"
     ]
    }
   ],
   "source": [
    "#2.\tWrite a python script to continue writing to a file until user enters choice as y and then on user input n stop writing and read the file and count words in the text file those are ending with alphabet \"e\".\n",
    "\n",
    "f=open(\"file.txt\",\"w\")\n",
    "while True:\n",
    "    s=input(\"Enter a string: \")\n",
    "    f.write(s+\"\\n\")\n",
    "    ch=input(\"Do you want to continue(y/n): \")\n",
    "    if ch==\"n\":\n",
    "        break\n",
    "f.close()\n",
    "f=open(\"file.txt\",\"r\")\n",
    "c=0\n",
    "for line in f:\n",
    "    if line[-2]==\"e\":\n",
    "        c+=1\n",
    "print(\"Number of words ending with e: \",c)\n",
    "f.close()\n"
   ]
  },
  {
   "cell_type": "code",
   "execution_count": 3,
   "metadata": {},
   "outputs": [
    {
     "name": "stdout",
     "output_type": "stream",
     "text": [
      "Number of lines not starting with T:  2\n"
     ]
    }
   ],
   "source": [
    "#3.\tWrite a python script to count the number of lines from a text file which is not starting with an alphabet \"T\".\n",
    "\n",
    "f=open(\"file.txt\",\"r\")\n",
    "c=0\n",
    "for line in f:\n",
    "    if line[0]!=\"T\":\n",
    "        c+=1\n",
    "print(\"Number of lines not starting with T: \",c)\n",
    "f.close()\n",
    "\n"
   ]
  },
  {
   "cell_type": "code",
   "execution_count": 12,
   "metadata": {},
   "outputs": [
    {
     "name": "stdout",
     "output_type": "stream",
     "text": [
      "['ncncsnjc nd\\n', 'chk c as dcks \\n', 'jnc biskdvvs\\n', ' cdksj csk vcjskv \\n', 'powekjif\\n']\n",
      "ncncsnjc nd\n",
      "chk c as dcks \n",
      " cdksj csk vcjskv \n",
      "powekjif\n",
      "\n"
     ]
    }
   ],
   "source": [
    "#4.\tWrite a python script to delete the specified line giving the line number from the text file.\n",
    "\n",
    "f=open(\"file.txt\",\"r\")\n",
    "lines=f.readlines()\n",
    "print(lines)\n",
    "f.close()\n",
    "f=open(\"file.txt\",\"w\")\n",
    "n=int(input(\"Enter the line number to be deleted: \"))\n",
    "for i in range(len(lines)):\n",
    "    if i!=n-1:\n",
    "        f.write(lines[i])\n",
    "f.close()\n",
    "f=open(\"file.txt\",\"r\")\n",
    "print(f.read())\n",
    "f.close()\n"
   ]
  },
  {
   "cell_type": "code",
   "execution_count": 5,
   "metadata": {},
   "outputs": [
    {
     "name": "stdout",
     "output_type": "stream",
     "text": [
      "Current offset:  0\n",
      "Current offset:  5\n"
     ]
    }
   ],
   "source": [
    "#5.\tProgram to set file offsets with seek() and tell() functions in python\n",
    "\n",
    "f=open(\"file.txt\",\"r\")\n",
    "print(\"Current offset: \",f.tell())\n",
    "f.seek(5)\n",
    "print(\"Current offset: \",f.tell())\n",
    "f.close()"
   ]
  },
  {
   "cell_type": "code",
   "execution_count": 11,
   "metadata": {},
   "outputs": [
    {
     "name": "stdout",
     "output_type": "stream",
     "text": [
      "enter a valid character\n",
      "enter a valid character\n",
      "enter a valid character\n",
      "enter a valid character\n"
     ]
    }
   ],
   "source": [
    "f=open(\"file.txt\",\"w\")\n",
    "while True:\n",
    "    i=input(\"enter a string: \")\n",
    "    f.writelines(i+\"\\n\")\n",
    "    ch=input(\"enter y/n for wrtitng more:\")\n",
    "    if ch==\"n\":\n",
    "        break\n",
    "    if (ch!=\"y\")or(ch!=\"n\"):\n",
    "        print(\"enter a valid character\")\n",
    "f.close()\n"
   ]
  }
 ],
 "metadata": {
  "kernelspec": {
   "display_name": "base",
   "language": "python",
   "name": "python3"
  },
  "language_info": {
   "codemirror_mode": {
    "name": "ipython",
    "version": 3
   },
   "file_extension": ".py",
   "mimetype": "text/x-python",
   "name": "python",
   "nbconvert_exporter": "python",
   "pygments_lexer": "ipython3",
   "version": "3.9.13"
  },
  "orig_nbformat": 4
 },
 "nbformat": 4,
 "nbformat_minor": 2
}
