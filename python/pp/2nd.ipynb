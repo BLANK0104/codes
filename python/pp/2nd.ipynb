{
 "cells": [
  {
   "cell_type": "code",
   "execution_count": null,
   "metadata": {},
   "outputs": [],
   "source": [
    "2nd"
   ]
  },
  {
   "cell_type": "code",
   "execution_count": 13,
   "metadata": {},
   "outputs": [
    {
     "name": "stdout",
     "output_type": "stream",
     "text": [
      "7 is greater\n"
     ]
    }
   ],
   "source": [
    "#1.\tFind the largest of the three numbers.\n",
    "#b297\n",
    "a=int(input(\"enter value of a \"))\n",
    "b=int(input(\"enter value of b \"))\n",
    "c=int(input(\"enter value of c \"))\n",
    "if (b>a and b>c):\n",
    "    print(b,\" is greater\")\n",
    "elif (a>b and a>c):\n",
    "    print(a ,\"is greater\")\n",
    "elif (c>a and c>b):\n",
    "    print(c ,\"is greater\")\n",
    "else:\n",
    "    print(\"3 numbers are equal\")"
   ]
  },
  {
   "cell_type": "code",
   "execution_count": 16,
   "metadata": {},
   "outputs": [
    {
     "name": "stdout",
     "output_type": "stream",
     "text": [
      "2000  is leap year\n"
     ]
    }
   ],
   "source": [
    "#leap year\n",
    "#b297\n",
    "\n",
    "a=int(input(\"enter year to be tested: \"))\n",
    "if (a%400==0 or a%4==0 and a%100!=0):\n",
    "    print(a ,\" is leap year\")\n",
    "else:\n",
    "    print(a, \" is not a leap year\")"
   ]
  },
  {
   "cell_type": "code",
   "execution_count": 23,
   "metadata": {},
   "outputs": [
    {
     "name": "stdout",
     "output_type": "stream",
     "text": [
      "68.8\n",
      "D\n"
     ]
    }
   ],
   "source": [
    "#3.\tWAP to display grades depending on percentage marks obtained.\n",
    "#B297\n",
    "\n",
    "a=int(input(\"enter marks of subject 1: \"))\n",
    "b=int(input(\"enter marks of subject 2: \"))\n",
    "c=int(input(\"enter marks of subject 3: \"))\n",
    "d=int(input(\"enter marks of subject 4: \"))\n",
    "e=int(input(\"enter marks of subject 5: \"))\n",
    "f=(a+b+c+d+e)/5\n",
    "print(f)\n",
    "if(f>90):\n",
    "    print(\"A\")\n",
    "elif(f>80):\n",
    "    print(\"B\")\n",
    "elif(f>70):\n",
    "    print(\"C\")\n",
    "elif(f>60):\n",
    "    print(\"D\")\n",
    "else:\n",
    "    print(\"FAIL\")\n"
   ]
  },
  {
   "cell_type": "code",
   "execution_count": 41,
   "metadata": {},
   "outputs": [
    {
     "name": "stdout",
     "output_type": "stream",
     "text": [
      "16\n",
      "roots are  1.0  and  0.3333333333333333\n"
     ]
    }
   ],
   "source": [
    "#roots of quadratic equation\n",
    "#b297\n",
    "\n",
    "a=int(input(\"enter value of x^2\"))\n",
    "b=int(input(\"enter value of x\"))\n",
    "c=int(input(\"enter value of constant\"))\n",
    "d=-b\n",
    "e=((b**2)-4*a*c)\n",
    "z=e**0.5\n",
    "print(e)\n",
    "if (e<0):\n",
    "    print(\"imaginery roots\")\n",
    "if(e==0):\n",
    "    print(\"real and same roots\")\n",
    "if(e>0):\n",
    "    f=((-b)+z)/(2*a)\n",
    "    g=((-b)-z)/(2*a)\n",
    "    print(\"roots are \",f,\" and \",g)\n",
    "\n"
   ]
  },
  {
   "cell_type": "code",
   "execution_count": 1,
   "metadata": {},
   "outputs": [
    {
     "name": "stdout",
     "output_type": "stream",
     "text": [
      "valid triangle\n"
     ]
    }
   ],
   "source": [
    "#5.\tWAP to check whether a triangle is valid or not.\n",
    "#b297\n",
    "a=int(input(\"enter the length of 1st side\"))\n",
    "b=int(input(\"enter the length of 2nd side\"))\n",
    "c=int(input(\"enter the length of 3rd side\"))\n",
    "if(a+b>c) or (a+c>b) or (b+c>a):\n",
    "    print(\"valid triangle\")\n",
    "else:\n",
    "    print(\"invalid triangle\")"
   ]
  },
  {
   "cell_type": "code",
   "execution_count": 42,
   "metadata": {},
   "outputs": [
    {
     "name": "stdout",
     "output_type": "stream",
     "text": [
      "5\n",
      "10\n",
      "15\n",
      "20\n",
      "25\n",
      "30\n",
      "35\n",
      "40\n",
      "45\n",
      "50\n"
     ]
    }
   ],
   "source": [
    "#table of n\n",
    "#b297\n",
    "\n",
    "a=int(input(\"enter number to be calculated for table\"))\n",
    "for i in range(1,11):\n",
    "    print(a*i)"
   ]
  },
  {
   "cell_type": "code",
   "execution_count": 58,
   "metadata": {},
   "outputs": [
    {
     "name": "stdout",
     "output_type": "stream",
     "text": [
      "24\n"
     ]
    }
   ],
   "source": [
    "#factorial\n",
    "#b297\n",
    "a=int(input(\"entter number to be calcukkated for factorial \"))\n",
    "g=1\n",
    "for i in range(1,a+1):\n",
    "    g=g*i\n",
    "print(g)"
   ]
  },
  {
   "cell_type": "code",
   "execution_count": 4,
   "metadata": {},
   "outputs": [
    {
     "name": "stdout",
     "output_type": "stream",
     "text": [
      "125\n"
     ]
    }
   ],
   "source": [
    "#exponent\n",
    "a=int(input(\"ennter base \"))\n",
    "b=int(input(\"enter power \"))\n",
    "c=1\n",
    "for i in range(1,1+b):\n",
    "    c=a*c\n",
    "print(c)"
   ]
  },
  {
   "cell_type": "code",
   "execution_count": 11,
   "metadata": {},
   "outputs": [
    {
     "name": "stdout",
     "output_type": "stream",
     "text": [
      "2500\n"
     ]
    }
   ],
   "source": [
    "#b297\n",
    "#9.\tTo find the sum of all the odd numbers less than 100.\n",
    "b=0\n",
    "for i in range(1,100,2):\n",
    "    b+=i\n",
    "print(b)"
   ]
  },
  {
   "cell_type": "code",
   "execution_count": 13,
   "metadata": {},
   "outputs": [
    {
     "name": "stdout",
     "output_type": "stream",
     "text": [
      "2\n",
      "3\n",
      "5\n"
     ]
    }
   ],
   "source": [
    "#b297\n",
    "#10.\tTo display all prime numbers from 1 to n.\n",
    "n = int(input (\"Enter the valu of n: \"))  \n",
    "for num in range (0, n + 1):  \n",
    "    if num > 1:  \n",
    "        for i in range (2, num):  \n",
    "            if (num % i) == 0:  \n",
    "                break  \n",
    "        else:  \n",
    "            print (num) "
   ]
  },
  {
   "cell_type": "code",
   "execution_count": 14,
   "metadata": {},
   "outputs": [
    {
     "name": "stdout",
     "output_type": "stream",
     "text": [
      "compund interest is  10.0\n"
     ]
    }
   ],
   "source": [
    "#11.\tTo calculate compound interest using a loop.\n",
    "#b297\n",
    "p=float(input(\"enter initial principal balance \"))\n",
    "r=float(input(\"enter interest rate \"))\n",
    "n=float(input(\"enter number of times interest applied per time period \"))\n",
    "t=float(input(\"enter \tnumber of time periods elapsed \"))\n",
    "a=(1+(r/n))\n",
    "b=n*t\n",
    "c=a**b\n",
    "d=p*a\n",
    "print(\"compund interest is \",d)\n"
   ]
  },
  {
   "cell_type": "code",
   "execution_count": 15,
   "metadata": {},
   "outputs": [
    {
     "name": "stdout",
     "output_type": "stream",
     "text": [
      "371 is an Armstrong number\n"
     ]
    }
   ],
   "source": [
    "#b297\n",
    "# 12.\tTo check for Armstrong [magic] number.\n",
    "n = int(input(\"Enter a number: \"))\n",
    "sum = 0\n",
    "a = n\n",
    "while a > 0:\n",
    "   digit = a % 10\n",
    "   sum += digit ** 3\n",
    "   a //= 10\n",
    "if n == sum:\n",
    "   print(n,\"is an Armstrong number\")\n",
    "else:\n",
    "   print(n,\"is not an Armstrong number\")"
   ]
  },
  {
   "cell_type": "code",
   "execution_count": 4,
   "metadata": {},
   "outputs": [
    {
     "name": "stdout",
     "output_type": "stream",
     "text": [
      "0\n",
      "1\n",
      "1\n",
      "2\n",
      "3\n"
     ]
    }
   ],
   "source": [
    "#b297\n",
    "#13.\tTo print the Fibonacci series.\n",
    "n=int(input(\"enter number of terms \"))\n",
    "t1=0\n",
    "t2=1\n",
    "if (n==1):\n",
    "    print(t1)\n",
    "elif (n==2):\n",
    "    print(t1)\n",
    "    print(t2)\n",
    "elif (n>2):\n",
    "    print(t1)\n",
    "    print(t2)\n",
    "    for i in range(n-2):\n",
    "        t3=t1+t2\n",
    "        print(t3)\n",
    "        t1=t2\n",
    "        t2=t3\n",
    "\n"
   ]
  },
  {
   "cell_type": "code",
   "execution_count": 2,
   "metadata": {},
   "outputs": [
    {
     "name": "stdout",
     "output_type": "stream",
     "text": [
      "1\n",
      "10\n",
      "101\n",
      "1010\n",
      "10101\n"
     ]
    }
   ],
   "source": [
    "#14.\tTo print following pattern\n",
    "a=int(input(\"enter number of rows \"))\n",
    "for i in range(1,a+1):\n",
    "    for j in range(1,i+1):\n",
    "        if (j%2==0):\n",
    "            print(\"0\",end=\"\")\n",
    "        else:\n",
    "            print(\"1\",end=\"\")\n",
    "    print()"
   ]
  }
 ],
 "metadata": {
  "kernelspec": {
   "display_name": "base",
   "language": "python",
   "name": "python3"
  },
  "language_info": {
   "codemirror_mode": {
    "name": "ipython",
    "version": 3
   },
   "file_extension": ".py",
   "mimetype": "text/x-python",
   "name": "python",
   "nbconvert_exporter": "python",
   "pygments_lexer": "ipython3",
   "version": "3.9.13"
  },
  "orig_nbformat": 4,
  "vscode": {
   "interpreter": {
    "hash": "75c920805eb27b536b95949d6c48f2c0b8a1e6b412abab14202a5223224705b7"
   }
  }
 },
 "nbformat": 4,
 "nbformat_minor": 2
}
