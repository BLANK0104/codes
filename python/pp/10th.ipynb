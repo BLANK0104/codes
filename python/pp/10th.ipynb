{
 "cells": [
  {
   "attachments": {},
   "cell_type": "markdown",
   "metadata": {},
   "source": [
    "10th"
   ]
  },
  {
   "cell_type": "code",
   "execution_count": 6,
   "metadata": {},
   "outputs": [
    {
     "name": "stdout",
     "output_type": "stream",
     "text": [
      "Student ID:  1\n",
      "Student Name:  Utsav\n",
      "Student Class:  1st\n"
     ]
    }
   ],
   "source": [
    "#1.\tWrite a Python class named Student with two attributes student_id, student_name. Add a new attribute student_class. Create a function to display the entire attribute and their values in Student class with exception handling.\n",
    "class Student:\n",
    "    def __init__(self, student_id, student_name, student_class):\n",
    "        self.student_id = student_id\n",
    "        self.student_name = student_name\n",
    "        self.student_class = student_class\n",
    "    def display(self):\n",
    "        print(\"Student ID: \", self.student_id)\n",
    "        print(\"Student Name: \", self.student_name)\n",
    "        print(\"Student Class: \", self.student_class)\n",
    "try:\n",
    "    s1 = Student(1, \"Utsav\", \"1st\")\n",
    "    s1.display()\n",
    "except:\n",
    "    print(\"Error\")"
   ]
  },
  {
   "cell_type": "code",
   "execution_count": 4,
   "metadata": {},
   "outputs": [
    {
     "name": "stdout",
     "output_type": "stream",
     "text": [
      "Student ID:  1\n",
      "Student Name:  Utsav\n",
      "Student Class:  1st\n",
      "Student ID:  2\n",
      "Student Name:  Blank\n",
      "Student Class:  2nd\n"
     ]
    }
   ],
   "source": [
    "#2.\tWrite a Python class named Student with two instances student1, student2 and assign given values to the said instances attributes. Print all the attributes of student1, student2 instances with their values in the given format with exception handling.\n",
    "class Student:\n",
    "    def __init__(self, student_id, student_name, student_class):\n",
    "        self.student_id = student_id\n",
    "        self.student_name = student_name\n",
    "        self.student_class = student_class\n",
    "    def display(self):\n",
    "        print(\"Student ID: \", self.student_id)\n",
    "        print(\"Student Name: \", self.student_name)\n",
    "        print(\"Student Class: \", self.student_class)\n",
    "try:\n",
    "    s1 = Student(1, \"Utsav\", \"1st\")\n",
    "    s2 = Student(2, \"Blank\", \"2nd\")\n",
    "    s1.display()\n",
    "    s2.display()\n",
    "except:\n",
    "    print(\"Error\")"
   ]
  },
  {
   "cell_type": "code",
   "execution_count": 8,
   "metadata": {},
   "outputs": [
    {
     "name": "stdout",
     "output_type": "stream",
     "text": [
      "4 sides = Square class\n",
      "2D object = shape class\n",
      "teal color = Square class.\n"
     ]
    }
   ],
   "source": [
    "#3.\tWAP for method overriding & overloading of below diagram with exception handling :\n",
    "class Shape:\n",
    "    data1 = \"qwerty\"\n",
    " \n",
    "    def no_of_sides(self):\n",
    "        print(\"if shapes= defined, class=square\")\n",
    "\n",
    "    def two_dimensional(self):\n",
    "        print(\"2D object = shape class\")\n",
    "\n",
    "class Square (Shape):\n",
    "    data2 = \"asdfgh\"\n",
    "\n",
    "    def no_of_sides (self):\n",
    "        print(\"4 sides = Square class\")\n",
    "\n",
    "    def color(self):\n",
    "        print(\"teal color = Square class.\")\n",
    "\n",
    "sq = Square() \n",
    "sq.no_of_sides() \n",
    "sq.two_dimensional() \n",
    "sq.color()\n"
   ]
  }
 ],
 "metadata": {
  "kernelspec": {
   "display_name": "base",
   "language": "python",
   "name": "python3"
  },
  "language_info": {
   "codemirror_mode": {
    "name": "ipython",
    "version": 3
   },
   "file_extension": ".py",
   "mimetype": "text/x-python",
   "name": "python",
   "nbconvert_exporter": "python",
   "pygments_lexer": "ipython3",
   "version": "3.9.13"
  },
  "orig_nbformat": 4
 },
 "nbformat": 4,
 "nbformat_minor": 2
}
