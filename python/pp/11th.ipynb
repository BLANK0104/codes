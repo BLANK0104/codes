{
 "cells": [
  {
   "attachments": {},
   "cell_type": "markdown",
   "metadata": {},
   "source": [
    "11th"
   ]
  },
  {
   "cell_type": "code",
   "execution_count": 2,
   "metadata": {},
   "outputs": [
    {
     "name": "stdout",
     "output_type": "stream",
     "text": [
      "Opened database successfully\n",
      "Table created successfully\n",
      "Records created successfully\n",
      "ID =  1\n",
      "NAME =  Paul\n",
      "ADDRESS =  California\n",
      "SALARY =  20000 \n",
      "ID =  2\n",
      "NAME =  Allen\n",
      "ADDRESS =  Texas\n",
      "SALARY =  15000 \n",
      "ID =  3\n",
      "NAME =  Teddy\n",
      "ADDRESS =  Norway\n",
      "SALARY =  20000 \n",
      "ID =  4\n",
      "NAME =  Mark\n",
      "ADDRESS =  Rich-Mond \n",
      "SALARY =  65000 \n",
      "Operation done successfully\n"
     ]
    }
   ],
   "source": [
    "#1.\tCreate a table and perform CRUD operations on it using sqlite3\n",
    "import sqlite3\n",
    "conn = sqlite3.connect('test.db')\n",
    "print(\"Opened database successfully\")\n",
    "conn.execute('''CREATE TABLE COMPANY\n",
    "            (ID            INT ,\n",
    "            NAME           CHAR(50),\n",
    "            AGE            INT,\n",
    "            ADDRESS        CHAR(50),\n",
    "            SALARY         INT);''')\n",
    "print(\"Table created successfully\")\n",
    "conn.execute(\"INSERT INTO COMPANY (ID,NAME,AGE,ADDRESS,SALARY) \\\n",
    "        VALUES (1, 'Paul', 32, 'California', 20000.00 )\");\n",
    "conn.execute(\"INSERT INTO COMPANY (ID,NAME,AGE,ADDRESS,SALARY) \\\n",
    "        VALUES (2, 'Allen', 25, 'Texas', 15000.00 )\");\n",
    "conn.execute(\"INSERT INTO COMPANY (ID,NAME,AGE,ADDRESS,SALARY) \\\n",
    "        VALUES (3, 'Teddy', 23, 'Norway', 20000.00 )\");\n",
    "conn.execute(\"INSERT INTO COMPANY (ID,NAME,AGE,ADDRESS,SALARY) \\\n",
    "        VALUES (4, 'Mark', 25, 'Rich-Mond ', 65000.00 )\");\n",
    "conn.commit()\n",
    "print(\"Records created successfully\")\n",
    "cursor = conn.execute(\"SELECT id, name, address, salary  from COMPANY\")\n",
    "for row in cursor:\n",
    "    print(\"ID = \", row[0])\n",
    "    print(\"NAME = \", row[1])\n",
    "    print(\"ADDRESS = \", row[2])\n",
    "    print(\"SALARY = \", row[3], \"\")\n",
    "print(\"Operation done successfully\")\n",
    "conn.close()\n"
   ]
  },
  {
   "cell_type": "code",
   "execution_count": 14,
   "metadata": {},
   "outputs": [
    {
     "name": "stdout",
     "output_type": "stream",
     "text": [
      "NAME= UTSAV\n",
      "NAME= UTSAV\n",
      "NAME= UTSAV\n",
      "NAME= UTSAV\n",
      "NAME= UTSAV\n"
     ]
    }
   ],
   "source": [
    "import sqlite3 as sql\n",
    "conn=sql.connect(\"utsav.db\")\n",
    "#conn.execute(\"CREATE TABLE BLANK( NAME CHAR(50),ID INT, NUMBER INT);\")\n",
    "conn.execute(\"INSERT INTO BLANK(NAME,ID,NUMBER) VALUES('UTSAV',1,21343252);\")\n",
    "conn.commit()\n",
    "cursor=conn.execute(\"SELECT NAME, ID, NUMBER FROM BLANK\")\n",
    "for row in cursor:\n",
    "    print(\"NAME=\",row[0])\n",
    "conn.close()"
   ]
  },
  {
   "cell_type": "code",
   "execution_count": 21,
   "metadata": {},
   "outputs": [
    {
     "name": "stdout",
     "output_type": "stream",
     "text": [
      "('HELLO', 'UTSAV', 1)\n"
     ]
    }
   ],
   "source": [
    "import sqlite3 as sql\n",
    "conn=sql.connect(\"utsav.db\")\n",
    "#conn.execute(\"CREATE TABLE HII1(GREET CHAR(50), P1 CHAR(50), ID INT);\")\n",
    "conn.execute(\"INSERT INTO HII1(GREET, P1, ID) VALUES ('HELLO', 'UTSAV',1);\")\n",
    "conn.execute(\"INSERT INTO HII1(GREET, P1, ID) VALUES ('HI THERE', 'SIR',2);\")\n",
    "conn.commit\n",
    "cursor=conn.execute(\"SELECT * FROM HII1 WHERE GREET='HELLO'\")\n",
    "rows=cursor.fetchall()\n",
    "for row in rows:\n",
    "    print(row)\n",
    "conn.close()"
   ]
  }
 ],
 "metadata": {
  "kernelspec": {
   "display_name": "base",
   "language": "python",
   "name": "python3"
  },
  "language_info": {
   "codemirror_mode": {
    "name": "ipython",
    "version": 3
   },
   "file_extension": ".py",
   "mimetype": "text/x-python",
   "name": "python",
   "nbconvert_exporter": "python",
   "pygments_lexer": "ipython3",
   "version": "3.9.13"
  },
  "orig_nbformat": 4
 },
 "nbformat": 4,
 "nbformat_minor": 2
}
