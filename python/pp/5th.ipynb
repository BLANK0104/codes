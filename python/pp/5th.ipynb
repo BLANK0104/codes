{
 "cells": [
  {
   "attachments": {},
   "cell_type": "markdown",
   "metadata": {},
   "source": [
    "5TH"
   ]
  },
  {
   "cell_type": "code",
   "execution_count": 14,
   "metadata": {},
   "outputs": [
    {
     "name": "stdout",
     "output_type": "stream",
     "text": [
      "{1: 1}\n",
      "{2: 4}\n",
      "{3: 9}\n",
      "{4: 16}\n",
      "{5: 25}\n"
     ]
    }
   ],
   "source": [
    "#1.\tGenerate and print a dictionary that contains a number (between 1 and n) in the form(x:x*x);  e.g. {1:1, 2:4, 3:9, 4:16…n:n2}\n",
    "a=int(input(\"enter a number:\"))\n",
    "n=1\n",
    "for x in range (1,a+1):\n",
    "   s={x:(x**2)}\n",
    "   print(s)"
   ]
  },
  {
   "cell_type": "code",
   "execution_count": 2,
   "metadata": {},
   "outputs": [
    {
     "name": "stdout",
     "output_type": "stream",
     "text": [
      "original dictionary is: {1: 2, 3: 4, 4: 3, 2: 1, 0: 0}\n",
      "dictionary in ascending order by value is: [(0, 0), (1, 2), (2, 1), (3, 4), (4, 3)]\n",
      "dictionary in descending order by value is: [(4, 3), (3, 4), (2, 1), (1, 2), (0, 0)]\n",
      "dictionary in ascending order by key is: [(0, 0), (1, 2), (2, 1), (3, 4), (4, 3)]\n",
      "dictionary in descending order by key is: [(4, 3), (3, 4), (2, 1), (1, 2), (0, 0)]\n",
      "dictionary in ascending order by value is: [0, 1, 2, 3, 4]\n",
      "dictionary in descending order by value is: [4, 3, 2, 1, 0]\n",
      "dictionary in ascending order by key is: [0, 1, 2, 3, 4]\n",
      "dictionary in descending order by key is: [4, 3, 2, 1, 0]\n",
      "dictionary in ascending order by value is: [0, 1, 2, 3, 4]\n",
      "dictionary in descending order by value is: [4, 3, 2, 1, 0]\n",
      "dictionary in ascending order by key is: [0, 1, 2, 3, 4]\n",
      "dictionary in descending order by key is: [4, 3, 2, 1, 0]\n"
     ]
    }
   ],
   "source": [
    "#2.\tSort (ascending and descending) a dictionary by keys, values and items.\n",
    "a={1:2,3:4,4:3,2:1,0:0}\n",
    "print(\"original dictionary is:\",a)\n",
    "\n",
    "print(\"dictionary in ascending order by value is:\",sorted(a.items()))\n",
    "print(\"dictionary in descending order by key is:\",sorted(a.items(),reverse=True))\n",
    "\n",
    "print(\"dictionary in ascending order by value is:\",sorted(a.keys()))\n",
    "print(\"dictionary in descending order by key is:\",sorted(a.keys(),reverse=True))\n",
    "\n",
    "print(\"dictionary in ascending order by value is:\",sorted(a.values()))\n",
    "print(\"dictionary in descending order by key is:\",sorted(a.values(),reverse=True))\n",
    "\n"
   ]
  },
  {
   "cell_type": "code",
   "execution_count": 6,
   "metadata": {},
   "outputs": [
    {
     "name": "stdout",
     "output_type": "stream",
     "text": [
      "{1: 4, 3: 8, 4: 6, 2: 2, 0: 0}\n"
     ]
    }
   ],
   "source": [
    "#3. combine two dictionary adding values for common keys\n",
    "a={1:2,3:4,4:3,2:1,0:0}\n",
    "b={1:2,3:4,4:3,2:1,0:0}\n",
    "c={}\n",
    "for i in a:\n",
    "    for j in b:\n",
    "        if i==j:\n",
    "            c[i]=a[i]+b[j]\n",
    "print(c)\n",
    "\n",
    "\n",
    "\n"
   ]
  },
  {
   "cell_type": "code",
   "execution_count": 5,
   "metadata": {},
   "outputs": [
    {
     "name": "stdout",
     "output_type": "stream",
     "text": [
      "{1: 2, 3: 4, 4: 3, 2: 1, 0: 0}\n"
     ]
    }
   ],
   "source": [
    "#Concatenate the multiple dictionaries using update method\n",
    "a={1:2,3:4,4:3,2:1,0:0}\n",
    "b={1:2,3:4,4:3,2:1,0:0}\n",
    "a.update(b)\n",
    "print(a)\n"
   ]
  },
  {
   "cell_type": "code",
   "execution_count": 4,
   "metadata": {},
   "outputs": [
    {
     "name": "stdout",
     "output_type": "stream",
     "text": [
      "{'Cierra Vega': (6.2, 70), 'Alden Cantrell': (5.9, 65), 'Kierra Gentry': (6.0, 68), 'Pierre Cox': (5.8, 66)}\n",
      "\n",
      "Height and weight of students:\n",
      "Cierra Vega : (6.2, 70)\n",
      "Alden Cantrell : (5.9, 65)\n",
      "Kierra Gentry : (6.0, 68)\n",
      "Pierre Cox : (5.8, 66)\n"
     ]
    }
   ],
   "source": [
    "#4.\tWrite a Python program to filter the height and width of students, which are stored in a dictionary\n",
    "students = {'Cierra Vega': (6.2, 70), 'Alden Cantrell': (5.9, 65), 'Kierra Gentry': (6.0, 68), 'Pierre Cox': (5.8, 66)}\n",
    "print(students)\n",
    "print(\"\\nHeight and weight of students:\")\n",
    "for i in students:\n",
    "    print(i, \":\", students[i])\n",
    "\n"
   ]
  },
  {
   "cell_type": "code",
   "execution_count": 1,
   "metadata": {},
   "outputs": [
    {
     "name": "stdout",
     "output_type": "stream",
     "text": [
      "{'45': 56, '87': 89}\n",
      "all the keys are: dict_keys(['45', '87'])\n",
      "all the values are: dict_values([56, 89])\n",
      "{'45': 56, '87': 89, '': 12}\n",
      "{'87': 89, '': 12}\n",
      "{'87': 94, '': 17}\n",
      "length of dictionary is: 2\n",
      "{'87': 94, '': 17}\n"
     ]
    }
   ],
   "source": [
    "#5.\tCreate a dictionary to keep student’s marks, use student sapid as the key. Perform the below mentioned task on this dictionary. \n",
    "a=int(input(\"enter the number of students:\"))\n",
    "d={}\n",
    "for i in range(a):\n",
    "    sapid=input(\"enter the sapid of student:\")\n",
    "    marks=int(input(\"enter the marks of student:\"))\n",
    "    d[sapid]=marks\n",
    "print(d)\n",
    "\n",
    "#a.\tDisplay all the keys\n",
    "print(\"all the keys are:\",d.keys())\n",
    "\n",
    "#b.\tDisplay all the values\n",
    "print(\"all the values are:\",d.values())\n",
    "\n",
    "#c.\tTake the sapid as the input and modify the grade given by user\n",
    "sapid=input(\"enter the sapid of student:\")\n",
    "marks=int(input(\"enter the marks of student:\"))\n",
    "d[sapid]=marks\n",
    "print(d)\n",
    "\n",
    "#d.\tTake the sapid from the user to remove that user from the dictionary\n",
    "sapid=input(\"enter the sapid of student:\")\n",
    "del d[sapid]\n",
    "print(d)\n",
    "\n",
    "#e.\tGive 5 marks as the bonus to all the students and display the new marks\n",
    "for i in d:\n",
    "    d[i]=d[i]+5\n",
    "print(d)\n",
    "\n",
    "#f.\tFind the length of the dictionary using len function\n",
    "print(\"length of dictionary is:\",len(d))\n",
    "\n",
    "#g.\tCreate a new copy of dictionary using copy method.\n",
    "d1=d.copy()\n",
    "print(d1)\n"
   ]
  },
  {
   "cell_type": "code",
   "execution_count": null,
   "metadata": {},
   "outputs": [],
   "source": []
  }
 ],
 "metadata": {
  "kernelspec": {
   "display_name": "Python 3",
   "language": "python",
   "name": "python3"
  },
  "language_info": {
   "codemirror_mode": {
    "name": "ipython",
    "version": 3
   },
   "file_extension": ".py",
   "mimetype": "text/x-python",
   "name": "python",
   "nbconvert_exporter": "python",
   "pygments_lexer": "ipython3",
   "version": "3.9.13"
  },
  "orig_nbformat": 4,
  "vscode": {
   "interpreter": {
    "hash": "0df79a5982cc5a70553c602a5d43d4cb06524f7080da494cbafac53b4237f0a3"
   }
  }
 },
 "nbformat": 4,
 "nbformat_minor": 2
}
