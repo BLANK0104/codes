{
 "cells": [
  {
   "cell_type": "code",
   "execution_count": 1,
   "metadata": {},
   "outputs": [],
   "source": [
    "#Consider file  “num.txt” with numbers 1,2,3,4,5,6,7,8,9,10,11,12,13,14,15,16,17,18,19,20.  Implement python program to copy even numbers to “even.txt” and odd numbers to “odd.txt” from “num.txt” and display contents of all three files.  \n",
    "\n",
    "f = open(\"num.txt\",\"w\")\n",
    "for i in range(1,21):\n",
    "    f.write(str(i)+\"\\n\")\n",
    "f.close()\n",
    "\n",
    "f = open(\"num.txt\",\"r\")\n",
    "f1 = open(\"even.txt\",\"w\")\n",
    "f2 = open(\"odd.txt\",\"w\")\n",
    "for i in f:\n",
    "    if int(i)%2==0:\n",
    "        f1.write(i)\n",
    "    else:\n",
    "        f2.write(i)\n",
    "f.close()\n",
    "f1.close()\n",
    "f2.close()\n"
   ]
  },
  {
   "cell_type": "code",
   "execution_count": 2,
   "metadata": {},
   "outputs": [
    {
     "name": "stdout",
     "output_type": "stream",
     "text": [
      "Ticket no:  1\n",
      "Passenger name:  utsav\n",
      "Ticket fare:  999\n"
     ]
    }
   ],
   "source": [
    "#Declare class TicketBooking with instance variables like ticket no, passenger name and ticket fare.  Define parameterized constructor to initialize objects and show( ) function to display details of booked ticket. Implement complete python program to represent above scenario. \n",
    "\n",
    "class TicketBooking:\n",
    "    def __init__(self,ticket_no,passenger_name,ticket_fare):\n",
    "        self.ticket_no = ticket_no\n",
    "        self.passenger_name = passenger_name\n",
    "        self.ticket_fare = ticket_fare\n",
    "    def show(self):\n",
    "        print(\"Ticket no: \",self.ticket_no)\n",
    "        print(\"Passenger name: \",self.passenger_name)\n",
    "        print(\"Ticket fare: \",self.ticket_fare)\n",
    "\n",
    "t = TicketBooking(1,\"utsav\",999)\n",
    "t.show()\n"
   ]
  },
  {
   "cell_type": "code",
   "execution_count": 4,
   "metadata": {},
   "outputs": [
    {
     "name": "stdout",
     "output_type": "stream",
     "text": [
      "[(1, 'utsav', 999), (2, 'naman', 1999), (3, 'gaurav', 2999)]\n",
      "[(1, 'utsav', 999), (3, 'gaurav', 3999)]\n"
     ]
    }
   ],
   "source": [
    "#Consider following table TicketBooking and perform following operations using Python and sqlite3.\n",
    "#1.\tCreate above table, make ticketNo as primary key\n",
    "#2.\tInsert 2-3 records\n",
    "#3.\tRetrieve all records from table\n",
    "#4.\tUpdate ticket fare of any one passenger\n",
    "#5.\tDelete record of any one passenger\n",
    "#6. Retrieve all records from table\n",
    "\n",
    "import sqlite3\n",
    "conn = sqlite3.connect(\"TicketBooking.db\")\n",
    "cur = conn.cursor()\n",
    "cur.execute(\"create table TicketBooking(ticketNo int primary key,passengerName text,ticketFare int)\")\n",
    "cur.execute(\"insert into TicketBooking values(1,'utsav',999)\")\n",
    "cur.execute(\"insert into TicketBooking values(2,'naman',1999)\")\n",
    "cur.execute(\"insert into TicketBooking values(3,'gaurav',2999)\")\n",
    "cur.execute(\"select * from TicketBooking\")\n",
    "print(cur.fetchall())\n",
    "cur.execute(\"update TicketBooking set ticketFare=3999 where ticketNo=3\")\n",
    "cur.execute(\"delete from TicketBooking where ticketNo=2\")\n",
    "cur.execute(\"select * from TicketBooking\")\n",
    "print(cur.fetchall())\n",
    "conn.commit()\n",
    "conn.close()\n",
    "\n"
   ]
  }
 ],
 "metadata": {
  "kernelspec": {
   "display_name": "base",
   "language": "python",
   "name": "python3"
  },
  "language_info": {
   "codemirror_mode": {
    "name": "ipython",
    "version": 3
   },
   "file_extension": ".py",
   "mimetype": "text/x-python",
   "name": "python",
   "nbconvert_exporter": "python",
   "pygments_lexer": "ipython3",
   "version": "3.9.13"
  },
  "orig_nbformat": 4
 },
 "nbformat": 4,
 "nbformat_minor": 2
}
